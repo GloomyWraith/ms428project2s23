{
 "cells": [
  {
   "cell_type": "code",
   "execution_count": 4,
   "metadata": {},
   "outputs": [],
   "source": [
    "#------------------------------HEADER------------------------------#\n",
    "#Projeto computacional em que implementamos o método simplex.\n",
    "'''AUTHORS:\n",
    "Daniel Reis, Matheus Alves, Mariane Santana.\n",
    "'''\n",
    "\n",
    "import numpy as np\n",
    "#------------------------------HEADER------------------------------#"
   ]
  },
  {
   "cell_type": "code",
   "execution_count": 5,
   "metadata": {},
   "outputs": [],
   "source": [
    "#Função que lê da entrada as informações relevantes para o PL.\n",
    "def entrada():\n",
    "    #Lê o tamanho da matriz de restrições\n",
    "    linhas = int(input(\"Informe o tamanho da matriz.\\nLinhas: \"))\n",
    "    colunas = int(input(\"\\nColunas: \"))\n",
    "    #Cria uma matriz (A)mxn de zeros\n",
    "    A = np.zeros(linhas*colunas, dtype=float).reshape(linhas, colunas)\n",
    "\n",
    "    #Atribui às entradas de A os valores do input do usuário.\n",
    "    for i in range(linhas):\n",
    "        A[i] = input().split()\n",
    "\n",
    "    #Atribui às entradas de b (vetor de recursos) os valores do input do usuário.\n",
    "    recursos = [float(b) for b in input(\"Informe o vetor dos recursos (\"+str(linhas)+\" entradas separadas por um espaço): \").split(sep = \" \")]\n",
    "\n",
    "    #Atribui às entradas de c (vetor de custos) os valores do input do usuário.\n",
    "    custos = [float(c) for c in input(\"Informe o vetor dos custos (\"+str(colunas)+\" entradas separadas por um espaço, incluindo zeros para as variáveis de folga): \").split(sep = \" \")]\n",
    "\n",
    "    #Printa os valores lidos para confirmar se tudo correu bem.\n",
    "    print('A = {}\\n'.format(A))\n",
    "    print('b = {}\\n'.format(recursos))\n",
    "    print('c = {}\\n'.format(custos))\n",
    "    return A, recursos, custos, linhas, colunas\n"
   ]
  },
  {
   "cell_type": "code",
   "execution_count": 6,
   "metadata": {},
   "outputs": [
    {
     "name": "stdout",
     "output_type": "stream",
     "text": [
      "A = [[10.  2.  1.  1.  0.  0.]\n",
      " [ 7.  3.  2.  0.  1.  0.]\n",
      " [ 2.  4.  1.  0.  0.  1.]]\n",
      "\n",
      "b = [100.0, 77.0, 80.0]\n",
      "\n",
      "c = [-12.0, -3.0, -1.0, 0.0, 0.0, 0.0]\n",
      "\n"
     ]
    }
   ],
   "source": [
    "A, recursos, custos, linhas, colunas = entrada()"
   ]
  },
  {
   "cell_type": "code",
   "execution_count": 81,
   "metadata": {},
   "outputs": [],
   "source": [
    "\n",
    "#Função que particiona o PL e cria o vetor de indices das variaveis\n",
    "def part(A,custos, linhas, colunas):\n",
    "    # Define partições e os custos básicos e não-básicos\n",
    "    particao_basica = A[:,(linhas-colunas):].copy()\n",
    "    particao_nbasica = A[:,:linhas].copy()\n",
    "    custos_basicos = custos[(linhas-colunas):].copy()\n",
    "    custos_nbasicos = custos[:linhas].copy()\n",
    "    vetor_indicial = list(range(1, colunas+1))\n",
    "    return particao_basica, particao_nbasica, custos_basicos, custos_nbasicos, vetor_indicial"
   ]
  },
  {
   "cell_type": "code",
   "execution_count": 132,
   "metadata": {},
   "outputs": [],
   "source": [
    "\n",
    "particao_basica, particao_nbasica, custos_basicos, custos_nbasicos, vetor_indicial = part(A,custos, linhas, colunas)"
   ]
  },
  {
   "cell_type": "code",
   "execution_count": 83,
   "metadata": {},
   "outputs": [
    {
     "name": "stdout",
     "output_type": "stream",
     "text": [
      "[[1. 0. 0.]\n",
      " [0. 1. 0.]\n",
      " [0. 0. 1.]]\n"
     ]
    }
   ],
   "source": [
    "print(particao_basica)"
   ]
  },
  {
   "cell_type": "code",
   "execution_count": 84,
   "metadata": {},
   "outputs": [
    {
     "name": "stdout",
     "output_type": "stream",
     "text": [
      "[[10.  2.  1.]\n",
      " [ 7.  3.  2.]\n",
      " [ 2.  4.  1.]]\n"
     ]
    }
   ],
   "source": [
    "print(particao_nbasica)"
   ]
  },
  {
   "cell_type": "code",
   "execution_count": 133,
   "metadata": {},
   "outputs": [
    {
     "name": "stdout",
     "output_type": "stream",
     "text": [
      "[1, 2, 3, 4, 5, 6]\n"
     ]
    }
   ],
   "source": [
    "print(vetor_indicial)"
   ]
  },
  {
   "cell_type": "markdown",
   "metadata": {},
   "source": [
    "Loop daqui pra baixo"
   ]
  },
  {
   "cell_type": "code",
   "execution_count": 118,
   "metadata": {},
   "outputs": [],
   "source": [
    "# Procura uma solução básica factível, Xb.\n",
    "def solucao_basica(particao_basica, recursos):\n",
    "    try:\n",
    "        xb = np.linalg.solve(particao_basica, recursos)\n",
    "        return xb\n",
    "    except np.linalg.LinAlgError:\n",
    "        print(\"Solução básica factível não encontrada.\")\n",
    "        exit(0)\n",
    "#A funcao acima (solucao_basica) deverá ser chamada em loop até testar todas as particoes possiveis ou encontrar uma solucao factivel?\n",
    "\n",
    "# def busca_sol_basica(A,recursos):\n",
    "#     # Define partições e os custos básicos e não-básicos\n",
    "#     particao_basica = A[:,(linhas-colunas):].copy()\n",
    "#     particao_nbasica = A[:,:linhas].copy()\n",
    "#     custos_basicos = custos[(linhas-colunas):].copy()\n",
    "#     custos_nbasicos = custos[:linhas].copy()\n",
    "#     #Iterar\n",
    "#     solucao_basica(particao_basica,recursos)"
   ]
  },
  {
   "cell_type": "code",
   "execution_count": 119,
   "metadata": {},
   "outputs": [
    {
     "name": "stdout",
     "output_type": "stream",
     "text": [
      "[100.  77.  80.]\n"
     ]
    }
   ],
   "source": [
    "\n",
    "xb = solucao_basica(particao_basica, recursos)\n",
    "print(xb)\n"
   ]
  },
  {
   "cell_type": "code",
   "execution_count": 120,
   "metadata": {},
   "outputs": [],
   "source": [
    "#Função que calcula o valor da função objetivo considerando apenas a parte básica.\n",
    "def objetivo(custos_basicos, xb):\n",
    "    valor_atual = np.dot(np.transpose(custos_basicos), xb)\n",
    "    return valor_atual"
   ]
  },
  {
   "cell_type": "code",
   "execution_count": 121,
   "metadata": {},
   "outputs": [
    {
     "name": "stdout",
     "output_type": "stream",
     "text": [
      "0.0\n"
     ]
    }
   ],
   "source": [
    "\n",
    "valor_atual = objetivo(custos_basicos, xb)\n",
    "print(valor_atual)"
   ]
  },
  {
   "cell_type": "code",
   "execution_count": 122,
   "metadata": {},
   "outputs": [],
   "source": [
    "#Função que calcula os custos relativos (e retorna o quê exatamente? Só os custos?) Ver tbm se a entrada recebe os parametros certos\n",
    "def relativos(particao_basica, particao_nbasica, custos_basicos, custos_nbasicos, linhas, colunas):\n",
    "    lambda_simplex = np.linalg.solve(np.transpose(particao_basica), custos_basicos)\n",
    "    custos_relativos = [(custos_nbasicos[j] - np.dot(np.transpose(lambda_simplex), particao_nbasica[:,j])) for j in range(colunas-linhas)]\n",
    "    \n",
    "    return custos_relativos"
   ]
  },
  {
   "cell_type": "code",
   "execution_count": 123,
   "metadata": {},
   "outputs": [
    {
     "name": "stdout",
     "output_type": "stream",
     "text": [
      "[-12.0, -3.0, -1.0]\n"
     ]
    }
   ],
   "source": [
    "custos_relativos = relativos(particao_basica, particao_nbasica, custos_basicos, custos_nbasicos, linhas, colunas)\n",
    "print(custos_relativos)"
   ]
  },
  {
   "cell_type": "code",
   "execution_count": 124,
   "metadata": {},
   "outputs": [],
   "source": [
    "#Funcao que performa o teste de otimalidade (Essa é tão simples que fico na duvida se cabe implementar direto no main()).\n",
    "def otima(custos_relativos):\n",
    "    custo_relativo_min = min(custos_relativos)\n",
    "    indice_entrada_base = custos_relativos.index(custo_relativo_min)\n",
    "    if(custo_relativo_min >= 0):\n",
    "        return (-1)\n",
    "    else:\n",
    "        return indice_entrada_base"
   ]
  },
  {
   "cell_type": "code",
   "execution_count": 125,
   "metadata": {},
   "outputs": [
    {
     "name": "stdout",
     "output_type": "stream",
     "text": [
      "0\n"
     ]
    }
   ],
   "source": [
    "indice_entrada_base = otima(custos_relativos)\n",
    "print(indice_entrada_base)"
   ]
  },
  {
   "cell_type": "code",
   "execution_count": 126,
   "metadata": {},
   "outputs": [
    {
     "name": "stdout",
     "output_type": "stream",
     "text": [
      "[10.  7.  2.]\n"
     ]
    }
   ],
   "source": [
    "# Cálculo da Direção Simplex\n",
    "direcao_simplex = np.linalg.solve(particao_basica, particao_nbasica[:,indice_entrada_base])\n",
    "print(direcao_simplex)"
   ]
  },
  {
   "cell_type": "code",
   "execution_count": 127,
   "metadata": {},
   "outputs": [],
   "source": [
    "def indice_saida(xb, particao_basica, particao_nbasica, indice_entrada_base):\n",
    "    direcao_simplex = np.linalg.solve(particao_basica, particao_nbasica[:,indice_entrada_base])\n",
    "    for i in list((direcao_simplex <= 0)):\n",
    "        if i == False:\n",
    "            passo = xb/direcao_simplex\n",
    "            epsilon = min(passo)\n",
    "            indice_saida_base = np.where(passo == epsilon)[0][0]\n",
    "            return indice_saida_base\n",
    "    return (-1)\n"
   ]
  },
  {
   "cell_type": "code",
   "execution_count": 128,
   "metadata": {},
   "outputs": [
    {
     "name": "stdout",
     "output_type": "stream",
     "text": [
      "0\n"
     ]
    }
   ],
   "source": [
    "indice_saida_base = indice_saida(xb, particao_basica, particao_nbasica, indice_entrada_base)\n",
    "print(indice_saida_base)"
   ]
  },
  {
   "cell_type": "code",
   "execution_count": 134,
   "metadata": {},
   "outputs": [
    {
     "name": "stdout",
     "output_type": "stream",
     "text": [
      "[1, 2, 3, 4, 5, 6]\n"
     ]
    }
   ],
   "source": [
    "print(vetor_indicial)"
   ]
  },
  {
   "cell_type": "code",
   "execution_count": 135,
   "metadata": {},
   "outputs": [],
   "source": [
    "def troca_base(particao_basica, particao_nbasica, custos_basicos, custos_nbasicos, indice_entrada_base, indice_saida_base, vetor_indicial, linhas):\n",
    "    # Realiza troca das colunas da base\n",
    "    entrada_base = particao_nbasica[:,indice_entrada_base].copy()\n",
    "    saida_base = particao_basica[:,indice_saida_base].copy()\n",
    "    particao_basica[:,indice_saida_base] = entrada_base\n",
    "    particao_nbasica[:,indice_entrada_base] = saida_base\n",
    "\n",
    "    # Realiza troca dos custos básicos\n",
    "    entrada_custo = custos_nbasicos[indice_entrada_base]\n",
    "    saida_custo = custos_basicos[indice_saida_base]\n",
    "    custos_basicos[indice_saida_base] = entrada_custo\n",
    "    custos_nbasicos[indice_entrada_base] = saida_custo\n",
    "\n",
    "    # Realiza atualização do vetor indicial\n",
    "    entrada_indicial = vetor_indicial[indice_entrada_base]\n",
    "    saida_indicial = vetor_indicial[indice_saida_base] + linhas\n",
    "    vetor_indicial[saida_indicial] = entrada_indicial\n",
    "    vetor_indicial[entrada_indicial] = saida_indicial\n",
    "    \n",
    "\n",
    "\n",
    "\n",
    "    return particao_basica, particao_nbasica, custos_basicos, custos_nbasicos, vetor_indicial"
   ]
  },
  {
   "cell_type": "code",
   "execution_count": 130,
   "metadata": {},
   "outputs": [],
   "source": [
    "particao_basica, particao_nbasica, custos_basicos, custos_nbasicos, vetor_indicial = troca_base(particao_basica, particao_nbasica, custos_basicos, custos_nbasicos, indice_entrada_base, indice_saida_base)"
   ]
  },
  {
   "cell_type": "code",
   "execution_count": 131,
   "metadata": {},
   "outputs": [
    {
     "name": "stdout",
     "output_type": "stream",
     "text": [
      "[[10.  0.  0.]\n",
      " [ 7.  1.  0.]\n",
      " [ 2.  0.  1.]]\n",
      "[[1. 2. 1.]\n",
      " [0. 3. 2.]\n",
      " [0. 4. 1.]]\n",
      "[1, 3, 3, 1, 5, 6]\n"
     ]
    }
   ],
   "source": [
    "print(particao_basica)\n",
    "print(particao_nbasica)\n",
    "print(vetor_indicial)"
   ]
  },
  {
   "cell_type": "code",
   "execution_count": 73,
   "metadata": {},
   "outputs": [
    {
     "name": "stdout",
     "output_type": "stream",
     "text": [
      "[[10.  2.  1.  1.  0.  0.]\n",
      " [ 7.  3.  2.  0.  1.  0.]\n",
      " [ 2.  4.  1.  0.  0.  1.]]\n"
     ]
    }
   ],
   "source": [
    "print(A)"
   ]
  },
  {
   "cell_type": "code",
   "execution_count": 74,
   "metadata": {},
   "outputs": [
    {
     "name": "stdout",
     "output_type": "stream",
     "text": [
      "[3, 4, 2, 0, 1, 5]\n"
     ]
    }
   ],
   "source": [
    "print(vetor_indicial)"
   ]
  },
  {
   "cell_type": "code",
   "execution_count": 75,
   "metadata": {},
   "outputs": [
    {
     "name": "stdout",
     "output_type": "stream",
     "text": [
      "[[10.  2.  0.]\n",
      " [ 7.  3.  0.]\n",
      " [ 2.  4.  1.]]\n"
     ]
    }
   ],
   "source": [
    "print(particao_basica)"
   ]
  },
  {
   "cell_type": "code",
   "execution_count": 76,
   "metadata": {},
   "outputs": [
    {
     "name": "stdout",
     "output_type": "stream",
     "text": [
      "[[1. 0. 1.]\n",
      " [0. 1. 2.]\n",
      " [0. 0. 1.]]\n"
     ]
    }
   ],
   "source": [
    "print(particao_nbasica)"
   ]
  },
  {
   "cell_type": "code",
   "execution_count": 77,
   "metadata": {},
   "outputs": [
    {
     "name": "stdout",
     "output_type": "stream",
     "text": [
      "[ 9.125  4.375 44.25 ]\n"
     ]
    }
   ],
   "source": [
    "print(xb)"
   ]
  },
  {
   "cell_type": "code",
   "execution_count": 78,
   "metadata": {},
   "outputs": [
    {
     "data": {
      "text/plain": [
       "array([ 20., -83.,  80.])"
      ]
     },
     "execution_count": 78,
     "metadata": {},
     "output_type": "execute_result"
    }
   ],
   "source": [
    "solucao_basica(particao_nbasica, )"
   ]
  },
  {
   "cell_type": "code",
   "execution_count": 136,
   "metadata": {},
   "outputs": [],
   "source": [
    "def main():\n",
    "    \n",
    "    A, recursos, custos, linhas, colunas = entrada()\n",
    "    particao_basica, particao_nbasica, custos_basicos, custos_nbasicos = part(A,custos, linhas, colunas)\n",
    "    xb = solucao_basica(particao_basica, recursos) #Verificar se precisamos iterar sobre todas as possiveis formas de particionar.\n",
    "    if(min(xb) == None):\n",
    "        print('Solução básica factível não encontrada.')\n",
    "        # exit(0) #Termina a execução do programa.\n",
    "\n",
    "    custos_relativos = relativos(particao_basica, particao_nbasica, custos_basicos, custos_nbasicos, linhas, colunas)\n",
    "    while(otima(custos_relativos) != -1):\n",
    "        indice_entrada_base = otima(custos_relativos)\n",
    "        indice_saida_base = indice_saida(xb, particao_basica, particao_nbasica, indice_entrada_base) #direcao de passo\n",
    "        if indice_saida_base == (-1): #Se direcao é negativa ... O problema é ilimitado.\n",
    "            print(\"O problema não tem solução ótima finita.\")\n",
    "            # exit(0) #break;\n",
    "        else:\n",
    "            #Funcao que faz a troca (lembrar de informar quais variaveis estao em cada particao na iteracao atual).\n",
    "            particao_basica, particao_nbasica, custos_basicos, custos_nbasicos, vetor_indicial = troca_base(particao_basica,\n",
    "                                                                                                particao_nbasica,\n",
    "                                                                                                custos_basicos,\n",
    "                                                                                                custos_nbasicos,\n",
    "                                                                                                indice_entrada_base,\n",
    "                                                                                                indice_saida_base,\n",
    "                                                                                                vetor_indicial,\n",
    "                                                                                                linhas)\n",
    "            #refaz custo relativo\n",
    "            custos_relativos = relativos(particao_basica, particao_nbasica, custos_basicos, custos_nbasicos, linhas, colunas)\n",
    "\n",
    "    if(otima(custos_relativos)):\n",
    "        valor_atual = objetivo(custos_basicos, xb)\n",
    "\n",
    "        print(\"Solução atual é ótima.\")\n",
    "        print(\"Valor ótimo da solução: \", valor_atual)\n",
    "        print(\"Variáveis ótimas: \", xb)\n",
    "        # exit(0)\n",
    "\n",
    "\n",
    "    \n",
    "    "
   ]
  },
  {
   "cell_type": "code",
   "execution_count": 137,
   "metadata": {},
   "outputs": [
    {
     "ename": "ValueError",
     "evalue": "could not broadcast input array from shape (0,) into shape (6,)",
     "output_type": "error",
     "traceback": [
      "\u001b[0;31m---------------------------------------------------------------------------\u001b[0m",
      "\u001b[0;31mValueError\u001b[0m                                Traceback (most recent call last)",
      "Cell \u001b[0;32mIn[137], line 1\u001b[0m\n\u001b[0;32m----> 1\u001b[0m main()\n",
      "Cell \u001b[0;32mIn[136], line 3\u001b[0m, in \u001b[0;36mmain\u001b[0;34m()\u001b[0m\n\u001b[1;32m      1\u001b[0m \u001b[39mdef\u001b[39;00m \u001b[39mmain\u001b[39m():\n\u001b[0;32m----> 3\u001b[0m     A, recursos, custos, linhas, colunas \u001b[39m=\u001b[39m entrada()\n\u001b[1;32m      4\u001b[0m     particao_basica, particao_nbasica, custos_basicos, custos_nbasicos \u001b[39m=\u001b[39m part(A,custos, linhas, colunas)\n\u001b[1;32m      5\u001b[0m     xb \u001b[39m=\u001b[39m solucao_basica(particao_basica, recursos) \u001b[39m#Verificar se precisamos iterar sobre todas as possiveis formas de particionar.\u001b[39;00m\n",
      "Cell \u001b[0;32mIn[5], line 11\u001b[0m, in \u001b[0;36mentrada\u001b[0;34m()\u001b[0m\n\u001b[1;32m      9\u001b[0m \u001b[39m#Atribui às entradas de A os valores do input do usuário.\u001b[39;00m\n\u001b[1;32m     10\u001b[0m \u001b[39mfor\u001b[39;00m i \u001b[39min\u001b[39;00m \u001b[39mrange\u001b[39m(linhas):\n\u001b[0;32m---> 11\u001b[0m     A[i] \u001b[39m=\u001b[39m \u001b[39minput\u001b[39m()\u001b[39m.\u001b[39msplit()\n\u001b[1;32m     13\u001b[0m \u001b[39m#Atribui às entradas de b (vetor de recursos) os valores do input do usuário.\u001b[39;00m\n\u001b[1;32m     14\u001b[0m recursos \u001b[39m=\u001b[39m [\u001b[39mfloat\u001b[39m(b) \u001b[39mfor\u001b[39;00m b \u001b[39min\u001b[39;00m \u001b[39minput\u001b[39m(\u001b[39m\"\u001b[39m\u001b[39mInforme o vetor dos recursos (\u001b[39m\u001b[39m\"\u001b[39m\u001b[39m+\u001b[39m\u001b[39mstr\u001b[39m(linhas)\u001b[39m+\u001b[39m\u001b[39m\"\u001b[39m\u001b[39m entradas separadas por um espaço): \u001b[39m\u001b[39m\"\u001b[39m)\u001b[39m.\u001b[39msplit(sep \u001b[39m=\u001b[39m \u001b[39m\"\u001b[39m\u001b[39m \u001b[39m\u001b[39m\"\u001b[39m)]\n",
      "\u001b[0;31mValueError\u001b[0m: could not broadcast input array from shape (0,) into shape (6,)"
     ]
    }
   ],
   "source": [
    "main()"
   ]
  }
 ],
 "metadata": {
  "kernelspec": {
   "display_name": "Python 3",
   "language": "python",
   "name": "python3"
  },
  "language_info": {
   "codemirror_mode": {
    "name": "ipython",
    "version": 3
   },
   "file_extension": ".py",
   "mimetype": "text/x-python",
   "name": "python",
   "nbconvert_exporter": "python",
   "pygments_lexer": "ipython3",
   "version": "3.11.6"
  },
  "orig_nbformat": 4
 },
 "nbformat": 4,
 "nbformat_minor": 2
}
