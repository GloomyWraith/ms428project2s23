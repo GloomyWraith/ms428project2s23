{
 "cells": [
  {
   "cell_type": "code",
   "execution_count": 1,
   "metadata": {},
   "outputs": [],
   "source": [
    "#------------------------------HEADER------------------------------#\n",
    "#Projeto computacional em que implementamos o método simplex.\n",
    "'''AUTHORS:\n",
    "Daniel Reis, Matheus Alves, Mariane Santana.\n",
    "'''\n",
    "\n",
    "import numpy as np\n",
    "#------------------------------HEADER------------------------------#"
   ]
  },
  {
   "cell_type": "code",
   "execution_count": 2,
   "metadata": {},
   "outputs": [],
   "source": [
    "#Função que lê da entrada as informações relevantes para o PL.\n",
    "def entrada():\n",
    "    #Lê o tamanho da matriz de restrições\n",
    "    linhas = int(input(\"Informe o tamanho da matriz.\\nLinhas: \"))\n",
    "    colunas = int(input(\"\\nColunas: \"))\n",
    "    #Cria uma matriz (A)mxn de zeros\n",
    "    A = np.zeros(linhas*colunas, dtype=float).reshape(linhas, colunas)\n",
    "\n",
    "    #Atribui às entradas de A os valores do input do usuário.\n",
    "    for i in range(linhas):\n",
    "        A[i] = input().split()\n",
    "\n",
    "    #Atribui às entradas de b (vetor de recursos) os valores do input do usuário.\n",
    "    recursos = [float(b) for b in input(\"Informe o vetor dos recursos (\"+str(linhas)+\" entradas separadas por um espaço): \").split(sep = \" \")]\n",
    "\n",
    "    #Atribui às entradas de c (vetor de custos) os valores do input do usuário.\n",
    "    custos = [float(c) for c in input(\"Informe o vetor dos custos (\"+str(colunas)+\" entradas separadas por um espaço, incluindo zeros para as variáveis de folga): \").split(sep = \" \")]\n",
    "\n",
    "    #Printa os valores lidos para confirmar se tudo correu bem.\n",
    "    print('A = {}\\n'.format(A))\n",
    "    print('b = {}\\n'.format(recursos))\n",
    "    print('c = {}\\n'.format(custos))\n",
    "    return A, recursos, custos, linhas, colunas\n"
   ]
  },
  {
   "cell_type": "code",
   "execution_count": 5,
   "metadata": {},
   "outputs": [
    {
     "name": "stdout",
     "output_type": "stream",
     "text": [
      "A = [[10.  2.  1.  1.  0.  0.]\n",
      " [ 7.  3.  2.  0.  1.  0.]\n",
      " [ 2.  4.  1.  0.  0.  1.]]\n",
      "\n",
      "b = [100.0, 77.0, 80.0]\n",
      "\n",
      "c = [-12.0, -3.0, -1.0, 0.0, 0.0, 0.0]\n",
      "\n"
     ]
    }
   ],
   "source": [
    "A, recursos, custos, linhas, colunas = entrada()"
   ]
  },
  {
   "cell_type": "code",
   "execution_count": 3,
   "metadata": {},
   "outputs": [],
   "source": [
    "\n",
    "#Função que particiona o PL.\n",
    "def part(A,custos, linhas, colunas):\n",
    "    # Define partições e os custos básicos e não-básicos\n",
    "    particao_basica = A[:,(linhas-colunas):].copy()\n",
    "    particao_nbasica = A[:,:linhas].copy()\n",
    "    custos_basicos = custos[(linhas-colunas):].copy()\n",
    "    custos_nbasicos = custos[:linhas].copy()\n",
    "    return particao_basica, particao_nbasica, custos_basicos, custos_nbasicos"
   ]
  },
  {
   "cell_type": "code",
   "execution_count": 7,
   "metadata": {},
   "outputs": [],
   "source": [
    "\n",
    "particao_basica, particao_nbasica, custos_basicos, custos_nbasicos = part(A,custos, linhas, colunas)"
   ]
  },
  {
   "cell_type": "markdown",
   "metadata": {},
   "source": [
    "Loop daqui pra baixo"
   ]
  },
  {
   "cell_type": "code",
   "execution_count": 12,
   "metadata": {},
   "outputs": [],
   "source": [
    "# Procura uma solução básica factível, Xb.\n",
    "def solucao_basica(particao_basica, recursos):\n",
    "    try:\n",
    "        xb = np.linalg.solve(particao_basica, recursos)\n",
    "        return xb\n",
    "    except np.linalg.LinAlgError:\n",
    "        print(\"Solução básica factível não encontrada.\")\n",
    "        exit(0)\n",
    "#A funcao acima (solucao_basica) deverá ser chamada em loop até testar todas as particoes possiveis ou encontrar uma solucao factivel?\n",
    "\n",
    "# def busca_sol_basica(A,recursos):\n",
    "#     # Define partições e os custos básicos e não-básicos\n",
    "#     particao_basica = A[:,(linhas-colunas):].copy()\n",
    "#     particao_nbasica = A[:,:linhas].copy()\n",
    "#     custos_basicos = custos[(linhas-colunas):].copy()\n",
    "#     custos_nbasicos = custos[:linhas].copy()\n",
    "#     #Iterar\n",
    "#     solucao_basica(particao_basica,recursos)"
   ]
  },
  {
   "cell_type": "code",
   "execution_count": 9,
   "metadata": {},
   "outputs": [
    {
     "name": "stdout",
     "output_type": "stream",
     "text": [
      "[100.  77.  80.]\n"
     ]
    }
   ],
   "source": [
    "\n",
    "xb = solucao_basica(particao_basica, recursos)\n",
    "print(xb)\n"
   ]
  },
  {
   "cell_type": "code",
   "execution_count": 5,
   "metadata": {},
   "outputs": [],
   "source": [
    "#Função que calcula o valor da função objetivo considerando apenas a parte básica.\n",
    "def objetivo(custos_basicos, xb):\n",
    "    valor_atual = np.dot(np.transpose(custos_basicos), xb)\n",
    "    return valor_atual"
   ]
  },
  {
   "cell_type": "code",
   "execution_count": 12,
   "metadata": {},
   "outputs": [],
   "source": [
    "\n",
    "valor_atual = objetivo(custos_basicos, xb)"
   ]
  },
  {
   "cell_type": "code",
   "execution_count": 6,
   "metadata": {},
   "outputs": [],
   "source": [
    "#Função que calcula os custos relativos (e retorna o quê exatamente? Só os custos?) Ver tbm se a entrada recebe os parametros certos\n",
    "def relativos(particao_basica, particao_nbasica, custos_basicos, custos_nbasicos, linhas, colunas):\n",
    "    lambda_simplex = np.linalg.solve(np.transpose(particao_basica), custos_basicos)\n",
    "    custos_relativos = [(custos_nbasicos[j] - np.dot(np.transpose(lambda_simplex), particao_nbasica[:,j])) for j in range(colunas-linhas)]\n",
    "    \n",
    "    return custos_relativos"
   ]
  },
  {
   "cell_type": "code",
   "execution_count": 23,
   "metadata": {},
   "outputs": [],
   "source": [
    "custos_relativos = relativos(particao_basica, particao_nbasica, custos_basicos, custos_nbasicos, linhas, colunas)"
   ]
  },
  {
   "cell_type": "code",
   "execution_count": 22,
   "metadata": {},
   "outputs": [],
   "source": [
    "# print(lambda_simplex)\n",
    "# print(custos_relativos)\n",
    "# print(custo_relativo_min)\n",
    "# print(indice_entrada_base)"
   ]
  },
  {
   "cell_type": "code",
   "execution_count": 7,
   "metadata": {},
   "outputs": [],
   "source": [
    "#Funcao que performa o teste de otimalidade (Essa é tão simples que fico na duvida se cabe implementar direto no main()).\n",
    "def otima(custos_relativos):\n",
    "    custo_relativo_min = min(custos_relativos)\n",
    "    indice_entrada_base = custos_relativos.index(custo_relativo_min)\n",
    "    if(custo_relativo_min >= 0):\n",
    "        return (-1)\n",
    "    else:\n",
    "        return indice_entrada_base"
   ]
  },
  {
   "cell_type": "code",
   "execution_count": 26,
   "metadata": {},
   "outputs": [],
   "source": [
    "indice_entrada_base = otima(custos_relativos)"
   ]
  },
  {
   "cell_type": "code",
   "execution_count": null,
   "metadata": {},
   "outputs": [],
   "source": [
    "\n",
    "# Teste de otimalidade\n",
    "# if (custo_relativo_min >= 0):\n",
    "#     print(\"Solução atual é ótima.\")\n",
    "#     print(\"Valor ótimo da solução: \", valor_atual)\n",
    "#     print(\"Variáveis ótimas: \", xb)\n",
    "# else:\n",
    "#     print(\"Solução atual não é ótima.\")\n",
    "#     print(\"Valor atual da solução: \", valor_atual)\n",
    "#     print(\"Variáveis: \", xb)"
   ]
  },
  {
   "cell_type": "code",
   "execution_count": 27,
   "metadata": {},
   "outputs": [
    {
     "name": "stdout",
     "output_type": "stream",
     "text": [
      "[10.  7.  2.]\n"
     ]
    }
   ],
   "source": [
    "# Cálculo da Direção Simplex\n",
    "direcao_simplex = np.linalg.solve(particao_basica, particao_nbasica[:,indice_entrada_base])\n",
    "print(direcao_simplex)"
   ]
  },
  {
   "cell_type": "code",
   "execution_count": 35,
   "metadata": {},
   "outputs": [
    {
     "data": {
      "text/plain": [
       "array([False, False, False])"
      ]
     },
     "execution_count": 35,
     "metadata": {},
     "output_type": "execute_result"
    }
   ],
   "source": [
    "direcao_simplex <= 0"
   ]
  },
  {
   "cell_type": "code",
   "execution_count": 8,
   "metadata": {},
   "outputs": [],
   "source": [
    "def indice_saida(xb, particao_basica, particao_nbasica, indice_entrada_base):\n",
    "    direcao_simplex = np.linalg.solve(particao_basica, particao_nbasica[:,indice_entrada_base])\n",
    "    for i in list((direcao_simplex <= 0)):\n",
    "        if i == False:\n",
    "            passo = xb/direcao_simplex\n",
    "            epsilon = min(passo)\n",
    "            indice_saida_base = np.where(passo == epsilon)[0][0]\n",
    "            return indice_saida_base\n",
    "    return (-1)\n"
   ]
  },
  {
   "cell_type": "code",
   "execution_count": 36,
   "metadata": {},
   "outputs": [],
   "source": [
    "indice_saida_base = indice_saida(xb, particao_basica, particao_nbasica, indice_entrada_base)"
   ]
  },
  {
   "cell_type": "code",
   "execution_count": 9,
   "metadata": {},
   "outputs": [],
   "source": [
    "def troca_base(particao_basica, particao_nbasica, custos_basicos, custos_nbasicos, indice_entrada_base, indice_saida_base):\n",
    "    # Realiza troca das colunas da base\n",
    "    entrada_base = particao_nbasica[:,indice_entrada_base].copy()\n",
    "    saida_base = particao_basica[:,indice_saida_base].copy()\n",
    "    particao_basica[:,indice_saida_base] = entrada_base\n",
    "    particao_nbasica[:,indice_entrada_base] = saida_base\n",
    "\n",
    "    # Realiza troca dos custos básicos\n",
    "    entrada_custo = custos_nbasicos[indice_entrada_base]\n",
    "    saida_custo = custos_basicos[indice_saida_base]\n",
    "    custos_basicos[indice_saida_base] = entrada_custo\n",
    "    custos_nbasicos[indice_entrada_base] = saida_custo\n",
    "\n",
    "    return particao_basica, particao_nbasica, custos_basicos, custos_nbasicos"
   ]
  },
  {
   "cell_type": "code",
   "execution_count": 40,
   "metadata": {},
   "outputs": [],
   "source": [
    "particao_basica, particao_nbasica, custos_basicos, custos_nbasicos = troca_base(particao_basica, particao_nbasica, custos_basicos, custos_nbasicos, indice_entrada_base, indice_saida_base)\n",
    "# print(particao_basica)\n",
    "# print(particao_nbasica)"
   ]
  },
  {
   "cell_type": "code",
   "execution_count": 20,
   "metadata": {},
   "outputs": [],
   "source": [
    "def main():\n",
    "    \n",
    "    A, recursos, custos, linhas, colunas = entrada()\n",
    "    particao_basica, particao_nbasica, custos_basicos, custos_nbasicos = part(A,custos, linhas, colunas)\n",
    "    xb = solucao_basica(particao_basica, recursos) #Verificar se precisamos iterar sobre todas as possiveis formas de particionar.\n",
    "    if(min(xb) == None):\n",
    "        print('Solução básica factível não encontrada.')\n",
    "        # exit(0) #Termina a execução do programa.\n",
    "\n",
    "    custos_relativos = relativos(particao_basica, particao_nbasica, custos_basicos, custos_nbasicos, linhas, colunas)\n",
    "    while(otima(custos_relativos) != -1):\n",
    "        indice_entrada_base = otima(custos_relativos)\n",
    "        indice_saida_base = indice_saida(xb, particao_basica, particao_nbasica, indice_entrada_base) #direcao de passo\n",
    "        if indice_saida_base == (-1): #Se direcao é negativa ... O problema é ilimitado.\n",
    "            print(\"O problema não tem solução ótima finita.\")\n",
    "            # exit(0) #break;\n",
    "        else:\n",
    "            #Funcao que faz a troca (lembrar de informar quais variaveis estao em cada particao na iteracao atual).\n",
    "            particao_basica, particao_nbasica, custos_basicos, custos_nbasicos = troca_base(particao_basica,\n",
    "                                                                                                particao_nbasica,\n",
    "                                                                                                custos_basicos,\n",
    "                                                                                                custos_nbasicos,\n",
    "                                                                                                indice_entrada_base,\n",
    "                                                                                                indice_saida_base)\n",
    "            #refaz custo relativo\n",
    "            custos_relativos = relativos(particao_basica, particao_nbasica, custos_basicos, custos_nbasicos, linhas, colunas)\n",
    "\n",
    "    if(otima(custos_relativos)):\n",
    "        valor_atual = objetivo(custos_basicos, xb)\n",
    "\n",
    "        print(\"Solução atual é ótima.\")\n",
    "        print(\"Valor ótimo da solução: \", valor_atual)\n",
    "        print(\"Variáveis ótimas: \", xb)\n",
    "        # exit(0)\n",
    "\n",
    "\n",
    "    \n",
    "    "
   ]
  },
  {
   "cell_type": "code",
   "execution_count": 21,
   "metadata": {},
   "outputs": [
    {
     "name": "stdout",
     "output_type": "stream",
     "text": [
      "A = [[10.  2.  1.  1.  0.  0.]\n",
      " [ 7.  3.  2.  0.  1.  0.]\n",
      " [ 2.  4.  1.  0.  0.  1.]]\n",
      "\n",
      "b = [100.0, 77.0, 80.0]\n",
      "\n",
      "c = [-12.0, -3.0, -1.0, 0.0, 0.0, 0.0]\n",
      "\n",
      "Solução atual é ótima.\n",
      "Valor ótimo da solução:  -1440.0\n",
      "Variáveis ótimas:  [100.  77.  80.]\n"
     ]
    }
   ],
   "source": [
    "main()"
   ]
  }
 ],
 "metadata": {
  "kernelspec": {
   "display_name": "Python 3",
   "language": "python",
   "name": "python3"
  },
  "language_info": {
   "codemirror_mode": {
    "name": "ipython",
    "version": 3
   },
   "file_extension": ".py",
   "mimetype": "text/x-python",
   "name": "python",
   "nbconvert_exporter": "python",
   "pygments_lexer": "ipython3",
   "version": "3.11.5"
  },
  "orig_nbformat": 4
 },
 "nbformat": 4,
 "nbformat_minor": 2
}
