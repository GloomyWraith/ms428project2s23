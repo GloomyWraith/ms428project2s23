{
 "cells": [
  {
   "cell_type": "code",
   "execution_count": 364,
   "metadata": {},
   "outputs": [],
   "source": [
    "#------------------------------HEADER------------------------------#\n",
    "#Projeto computacional em que implementamos o método simplex.\n",
    "'''AUTHORS:\n",
    "Daniel Reis, Matheus Alves, Mariane Santana.\n",
    "'''\n",
    "\n",
    "import numpy as np\n",
    "#------------------------------HEADER------------------------------#"
   ]
  },
  {
   "cell_type": "code",
   "execution_count": 492,
   "metadata": {},
   "outputs": [],
   "source": [
    "#Função que lê da entrada as informações relevantes para o PL.\n",
    "def entrada():\n",
    "    #Lê o tamanho da matriz de restrições\n",
    "    linhas = int(input(\"Informe o tamanho da matriz.\\nLinhas: \"))\n",
    "    colunas = int(input(\"\\nColunas: \"))\n",
    "    #Cria uma matriz (A)mxn de zeros\n",
    "    A = np.zeros(linhas*colunas, dtype=float).reshape(linhas, colunas)\n",
    "\n",
    "    #Atribui às entradas de A os valores do input do usuário.\n",
    "    for i in range(linhas):\n",
    "        A[i] = input().split()\n",
    "\n",
    "    #Atribui às entradas de b (vetor de recursos) os valores do input do usuário.\n",
    "    recursos = [float(b) for b in input(\"Informe o vetor dos recursos (\"+str(linhas)+\" entradas separadas por um espaço): \").split(sep = \" \")]\n",
    "\n",
    "    #Atribui às entradas de c (vetor de custos) os valores do input do usuário.\n",
    "    custos = [float(c) for c in input(\"Informe o vetor dos custos (\"+str(colunas)+\" entradas separadas por um espaço, incluindo zeros para as variáveis de folga): \").split(sep = \" \")]\n",
    "\n",
    "    #TO DO: criar uma lista de tamanho len(custos) para lembrar o indice de quais var. estão na base.\n",
    "\n",
    "    #Printa os valores lidos para confirmar se tudo correu bem.\n",
    "    # print('A = {}\\n'.format(A))\n",
    "    # print('b = {}\\n'.format(recursos))\n",
    "    # print('c = {}\\n'.format(custos))\n",
    "    return A, recursos, custos, linhas, colunas"
   ]
  },
  {
   "cell_type": "code",
   "execution_count": 493,
   "metadata": {},
   "outputs": [],
   "source": [
    "A, recursos, custos, linhas, colunas = entrada()"
   ]
  },
  {
   "cell_type": "code",
   "execution_count": 462,
   "metadata": {},
   "outputs": [],
   "source": [
    "# #Função que particiona o PL e cria o vetor de indices das variaveis\n",
    "# def part(A,custos, linhas, colunas):\n",
    "#     # Define partições e os custos básicos e não-básicos\n",
    "#     particao_basica = A[:,abs(linhas-colunas):].copy()\n",
    "#     particao_nbasica = A[:,:abs(linhas-colunas)].copy()\n",
    "#     custos_basicos = custos[abs(linhas-colunas):].copy()\n",
    "#     custos_nbasicos = custos[:abs(linhas-colunas)].copy()\n",
    "#     # vetor_indicial = list(range(1, colunas+1))\n",
    "#     if abs(colunas-linhas) == linhas:\n",
    "#         vetor_indicial_basico = list(range(linhas+1, colunas+1))\n",
    "#         vetor_indicial_nbasico = list(range(1, linhas+1))\n",
    "#     elif abs(colunas-linhas) < linhas:\n",
    "#         vetor_indicial_basico = list(range(linhas, colunas+1))\n",
    "#         vetor_indicial_nbasico = list(range(1, linhas))\n",
    "\n",
    "#     return particao_basica, particao_nbasica, custos_basicos, custos_nbasicos, vetor_indicial_basico, vetor_indicial_nbasico"
   ]
  },
  {
   "cell_type": "code",
   "execution_count": 494,
   "metadata": {},
   "outputs": [],
   "source": [
    "#Função que particiona o PL e cria o vetor de indices das variaveis\n",
    "def part(A,custos, linhas, colunas):\n",
    "    # Define partições e os custos básicos e não-básicos\n",
    "    particao_basica = A[:,abs(linhas-colunas):].copy()\n",
    "    particao_nbasica = A[:,:abs(linhas-colunas)].copy()\n",
    "    custos_basicos = custos[abs(linhas-colunas):].copy()\n",
    "    custos_nbasicos = custos[:abs(linhas-colunas)].copy()\n",
    "    # vetor_indicial = list(range(1, colunas+1))\n",
    "    if abs(colunas-linhas) == linhas:\n",
    "        vetor_indicial_basico = list(range(linhas+1, colunas+1))\n",
    "        vetor_indicial_nbasico = list(range(1, linhas+1))\n",
    "    elif linhas % 2 != 0 & colunas % 2 != 0:\n",
    "        vetor_indicial_basico = list(range(linhas, colunas+1))\n",
    "        vetor_indicial_nbasico = list(range(1, linhas))\n",
    "    elif linhas % 2 == 0 & colunas % 2 == 0:\n",
    "        vetor_indicial_basico = list(range(colunas-linhas+1,colunas+1))\n",
    "        vetor_indicial_nbasico = list(range(1, linhas-1))\n",
    "    elif abs(colunas-linhas) > linhas:\n",
    "        vetor_indicial_basico = list(range(colunas-linhas+1,colunas+1))\n",
    "        vetor_indicial_nbasico = list(range(1, colunas-linhas+1))\n",
    "        \n",
    "\n",
    "\n",
    "\n",
    "\n",
    "    return particao_basica, particao_nbasica, custos_basicos, custos_nbasicos, vetor_indicial_basico, vetor_indicial_nbasico"
   ]
  },
  {
   "cell_type": "code",
   "execution_count": 495,
   "metadata": {},
   "outputs": [],
   "source": [
    "particao_basica, particao_nbasica, custos_basicos, custos_nbasicos, vetor_indicial_basico, vetor_indicial_nbasico = part(A,custos, linhas, colunas)"
   ]
  },
  {
   "cell_type": "code",
   "execution_count": 500,
   "metadata": {},
   "outputs": [
    {
     "data": {
      "text/plain": [
       "True"
      ]
     },
     "execution_count": 500,
     "metadata": {},
     "output_type": "execute_result"
    }
   ],
   "source": [
    "abs(colunas-linhas) > linhas"
   ]
  },
  {
   "cell_type": "code",
   "execution_count": 498,
   "metadata": {},
   "outputs": [
    {
     "name": "stdout",
     "output_type": "stream",
     "text": [
      "[[1. 0.]\n",
      " [0. 1.]]\n",
      "[1.0, 1.0]\n",
      "[5, 6]\n"
     ]
    }
   ],
   "source": [
    "print(particao_basica)\n",
    "print(custos_basicos)\n",
    "print(vetor_indicial_basico)"
   ]
  },
  {
   "cell_type": "code",
   "execution_count": 510,
   "metadata": {},
   "outputs": [],
   "source": [
    "vetor_indicial_nbasico = list(range(1, colunas-linhas+1))"
   ]
  },
  {
   "cell_type": "code",
   "execution_count": 511,
   "metadata": {},
   "outputs": [
    {
     "name": "stdout",
     "output_type": "stream",
     "text": [
      "[[1. 1. 1. 0.]\n",
      " [2. 1. 3. 1.]]\n",
      "[0.0, 0.0, 0.0, 0.0]\n",
      "[1, 2, 3, 4]\n"
     ]
    }
   ],
   "source": [
    "print(particao_nbasica)\n",
    "print(custos_nbasicos)\n",
    "print(vetor_indicial_nbasico)"
   ]
  },
  {
   "cell_type": "markdown",
   "metadata": {},
   "source": [
    "Loop daqui pra baixo"
   ]
  },
  {
   "cell_type": "code",
   "execution_count": 416,
   "metadata": {},
   "outputs": [],
   "source": [
    "# Procura uma solução básica factível, Xb.\n",
    "def solucao_basica(particao_basica, recursos):\n",
    "    try:\n",
    "        xb = np.linalg.solve(particao_basica, recursos)\n",
    "        return xb\n",
    "    except np.linalg.LinAlgError:\n",
    "        # variavel_artificial = np.\n",
    "        print(\"Solução básica factível não encontrada.\")\n",
    "        exit(0)"
   ]
  },
  {
   "cell_type": "code",
   "execution_count": 417,
   "metadata": {},
   "outputs": [
    {
     "name": "stdout",
     "output_type": "stream",
     "text": [
      "[6. 4. 4.]\n"
     ]
    }
   ],
   "source": [
    "\n",
    "xb = solucao_basica(particao_basica, recursos)\n",
    "print(xb)\n"
   ]
  },
  {
   "cell_type": "code",
   "execution_count": 418,
   "metadata": {},
   "outputs": [],
   "source": [
    "#Função que calcula o valor da função objetivo considerando apenas a parte básica.\n",
    "def objetivo(custos_basicos, xb):\n",
    "    valor_atual = np.dot(np.transpose(custos_basicos), xb)\n",
    "    return valor_atual"
   ]
  },
  {
   "cell_type": "code",
   "execution_count": 419,
   "metadata": {},
   "outputs": [
    {
     "name": "stdout",
     "output_type": "stream",
     "text": [
      "0.0\n"
     ]
    }
   ],
   "source": [
    "\n",
    "valor_atual = objetivo(custos_basicos, xb)\n",
    "print(valor_atual)"
   ]
  },
  {
   "cell_type": "code",
   "execution_count": 420,
   "metadata": {},
   "outputs": [],
   "source": [
    "#Função que calcula os custos relativos (e retorna o quê exatamente? Só os custos?) Ver tbm se a entrada recebe os parametros certos\n",
    "def relativos(particao_basica, particao_nbasica, custos_basicos, custos_nbasicos, linhas, colunas):\n",
    "    lambda_simplex = np.linalg.solve(np.transpose(particao_basica), custos_basicos)\n",
    "    custos_relativos = [(custos_nbasicos[j] - np.dot(np.transpose(lambda_simplex), particao_nbasica[:,j])) for j in range(abs(linhas-colunas))]\n",
    "    \n",
    "    return custos_relativos"
   ]
  },
  {
   "cell_type": "code",
   "execution_count": 421,
   "metadata": {},
   "outputs": [
    {
     "name": "stdout",
     "output_type": "stream",
     "text": [
      "[-1.0, -2.0]\n"
     ]
    }
   ],
   "source": [
    "custos_relativos = relativos(particao_basica, particao_nbasica, custos_basicos, custos_nbasicos, linhas, colunas)\n",
    "print(custos_relativos)"
   ]
  },
  {
   "cell_type": "code",
   "execution_count": 422,
   "metadata": {},
   "outputs": [],
   "source": [
    "#Funcao que performa o teste de otimalidade (Essa é tão simples que fico na duvida se cabe implementar direto no main()).\n",
    "def otima(custos_relativos):\n",
    "    custo_relativo_min = min(custos_relativos)\n",
    "    indice_entrada_base = custos_relativos.index(custo_relativo_min)\n",
    "    if(custo_relativo_min >= 0):\n",
    "        return (-1)\n",
    "    else:\n",
    "        return indice_entrada_base"
   ]
  },
  {
   "cell_type": "code",
   "execution_count": 423,
   "metadata": {},
   "outputs": [
    {
     "name": "stdout",
     "output_type": "stream",
     "text": [
      "1\n"
     ]
    }
   ],
   "source": [
    "indice_entrada_base = otima(custos_relativos)\n",
    "print(indice_entrada_base)"
   ]
  },
  {
   "cell_type": "code",
   "execution_count": 424,
   "metadata": {},
   "outputs": [
    {
     "name": "stdout",
     "output_type": "stream",
     "text": [
      "[ 1. -1.  1.]\n"
     ]
    }
   ],
   "source": [
    "# Cálculo da Direção Simplex\n",
    "direcao_simplex = np.linalg.solve(particao_basica, particao_nbasica[:,indice_entrada_base])\n",
    "print(direcao_simplex)"
   ]
  },
  {
   "cell_type": "code",
   "execution_count": 430,
   "metadata": {},
   "outputs": [],
   "source": [
    "def indice_saida(xb, particao_basica, particao_nbasica, indice_entrada_base):\n",
    "    direcao_simplex = np.linalg.solve(particao_basica, particao_nbasica[:,indice_entrada_base])\n",
    "    for i in list((direcao_simplex <= 0)):\n",
    "        if i == False:\n",
    "            np.seterr(divide=\"ignore\")\n",
    "            passo = np.divide(xb,direcao_simplex)\n",
    "            epsilon = min(i for i in passo if i>0)\n",
    "            indice_saida_base = np.where(passo == epsilon)[0][0]\n",
    "            return indice_saida_base\n",
    "    return (-1)"
   ]
  },
  {
   "cell_type": "code",
   "execution_count": 438,
   "metadata": {},
   "outputs": [
    {
     "data": {
      "text/plain": [
       "array([ 6., -4.,  4.])"
      ]
     },
     "execution_count": 438,
     "metadata": {},
     "output_type": "execute_result"
    }
   ],
   "source": [
    "xb/direcao_simplex"
   ]
  },
  {
   "cell_type": "code",
   "execution_count": 437,
   "metadata": {},
   "outputs": [
    {
     "name": "stdout",
     "output_type": "stream",
     "text": [
      "4.0\n"
     ]
    }
   ],
   "source": [
    "passo = xb/direcao_simplex\n",
    "print(min(n for n in passo if n>0))"
   ]
  },
  {
   "cell_type": "code",
   "execution_count": 431,
   "metadata": {},
   "outputs": [
    {
     "ename": "ValueError",
     "evalue": "The truth value of an array with more than one element is ambiguous. Use a.any() or a.all()",
     "output_type": "error",
     "traceback": [
      "\u001b[0;31m---------------------------------------------------------------------------\u001b[0m",
      "\u001b[0;31mValueError\u001b[0m                                Traceback (most recent call last)",
      "Cell \u001b[0;32mIn[431], line 1\u001b[0m\n\u001b[0;32m----> 1\u001b[0m indice_saida_base \u001b[39m=\u001b[39m indice_saida(xb, particao_basica, particao_nbasica, indice_entrada_base)\n\u001b[1;32m      2\u001b[0m \u001b[39mprint\u001b[39m(indice_saida_base)\n",
      "Cell \u001b[0;32mIn[430], line 7\u001b[0m, in \u001b[0;36mindice_saida\u001b[0;34m(xb, particao_basica, particao_nbasica, indice_entrada_base)\u001b[0m\n\u001b[1;32m      5\u001b[0m np\u001b[39m.\u001b[39mseterr(divide\u001b[39m=\u001b[39m\u001b[39m\"\u001b[39m\u001b[39mignore\u001b[39m\u001b[39m\"\u001b[39m)\n\u001b[1;32m      6\u001b[0m passo \u001b[39m=\u001b[39m np\u001b[39m.\u001b[39mdivide(xb,direcao_simplex)\n\u001b[0;32m----> 7\u001b[0m epsilon \u001b[39m=\u001b[39m \u001b[39mmin\u001b[39;49m(\u001b[39m0\u001b[39;49m, passo)\n\u001b[1;32m      8\u001b[0m indice_saida_base \u001b[39m=\u001b[39m np\u001b[39m.\u001b[39mwhere(passo \u001b[39m==\u001b[39m epsilon)[\u001b[39m0\u001b[39m][\u001b[39m0\u001b[39m]\n\u001b[1;32m      9\u001b[0m \u001b[39mreturn\u001b[39;00m indice_saida_base\n",
      "\u001b[0;31mValueError\u001b[0m: The truth value of an array with more than one element is ambiguous. Use a.any() or a.all()"
     ]
    }
   ],
   "source": [
    "indice_saida_base = indice_saida(xb, particao_basica, particao_nbasica, indice_entrada_base)\n",
    "print(indice_saida_base)"
   ]
  },
  {
   "cell_type": "code",
   "execution_count": 384,
   "metadata": {},
   "outputs": [],
   "source": [
    "def troca_base(particao_basica, particao_nbasica, custos_basicos, custos_nbasicos, indice_entrada_base, indice_saida_base, vetor_indicial_basico, vetor_indicial_nbasico):\n",
    "    # Realiza troca das colunas da base\n",
    "    entrada_base = particao_nbasica[:,indice_entrada_base].copy()\n",
    "    saida_base = particao_basica[:,indice_saida_base].copy()\n",
    "    particao_basica[:,indice_saida_base] = entrada_base\n",
    "    particao_nbasica[:,indice_entrada_base] = saida_base\n",
    "    # Realiza troca dos custos básicos\n",
    "    entrada_custo = custos_nbasicos[indice_entrada_base]\n",
    "    saida_custo = custos_basicos[indice_saida_base]\n",
    "    custos_basicos[indice_saida_base] = entrada_custo\n",
    "    custos_nbasicos[indice_entrada_base] = saida_custo\n",
    "\n",
    "    # Realiza atualização dos vetores indiciais\n",
    "    entrada_indicial = vetor_indicial_nbasico[indice_entrada_base]\n",
    "    saida_indicial = vetor_indicial_basico[indice_saida_base]\n",
    "    vetor_indicial_basico[indice_saida_base] = entrada_indicial\n",
    "    vetor_indicial_nbasico[indice_entrada_base] = saida_indicial\n",
    "    # vetor_indicial_basico = sorted(vetor_indicial_basico)\n",
    "    # vetor_indicial_nbasico = sorted(vetor_indicial_nbasico)\n",
    "\n",
    "\n",
    "\n",
    "    return particao_basica, particao_nbasica, custos_basicos, custos_nbasicos, vetor_indicial_basico, vetor_indicial_nbasico"
   ]
  },
  {
   "cell_type": "code",
   "execution_count": 410,
   "metadata": {},
   "outputs": [
    {
     "name": "stdout",
     "output_type": "stream",
     "text": [
      "1\n",
      "[[ 1.  1.]\n",
      " [ 1. -1.]\n",
      " [-1.  1.]]\n",
      "\n",
      "\n",
      "1\n",
      "[[1. 0. 0.]\n",
      " [0. 1. 0.]\n",
      " [0. 0. 1.]]\n",
      "\n",
      "\n",
      "[3, 4, 5]\n",
      "[1, 2]\n",
      "\n",
      "\n",
      "2\n",
      "4\n"
     ]
    }
   ],
   "source": [
    "print(indice_entrada_base)\n",
    "print(particao_nbasica)\n",
    "print(\"\\n\")\n",
    "print(indice_saida_base)\n",
    "print(particao_basica)\n",
    "print(\"\\n\")\n",
    "print(vetor_indicial_basico)\n",
    "print(vetor_indicial_nbasico)\n",
    "print(\"\\n\")\n",
    "print(vetor_indicial_nbasico[indice_entrada_base])\n",
    "print(vetor_indicial_basico[indice_saida_base])"
   ]
  },
  {
   "cell_type": "code",
   "execution_count": 386,
   "metadata": {},
   "outputs": [],
   "source": [
    "particao_basica, particao_nbasica, custos_basicos, custos_nbasicos, vetor_indicial_basico, vetor_indicial_nbasico = troca_base(particao_basica, particao_nbasica, custos_basicos, custos_nbasicos, indice_entrada_base, indice_saida_base, vetor_indicial_basico, vetor_indicial_nbasico)"
   ]
  },
  {
   "cell_type": "code",
   "execution_count": 387,
   "metadata": {},
   "outputs": [],
   "source": [
    "#TO DO: Incluir na impressão os indices da variáveis.\n",
    "def imprime_otima(xb, custos_basicos, indice_final):\n",
    "    #Calcula o valor da solução ótima\n",
    "    valor_atual = objetivo(custos_basicos, xb)\n",
    "    for i in range(len(indice_final)):\n",
    "        indice_final[i] = \"x\" + str(indice_final[i]) \n",
    "\n",
    "    #Impressão\n",
    "    print(\"Solução atual é ótima.\")\n",
    "    print(\"Valor ótimo da solução: \", valor_atual)\n",
    "    print(f\"Variáveis ótimas: {np.sort(indice_final)} = {xb}\\nAs variáveis restantes são 0.\")"
   ]
  },
  {
   "cell_type": "code",
   "execution_count": 389,
   "metadata": {},
   "outputs": [
    {
     "name": "stdout",
     "output_type": "stream",
     "text": [
      "[3, 2, 5]\n",
      "['x3', 'x2', 'x5']\n"
     ]
    }
   ],
   "source": [
    "indice_final = [vetor_indicial_basico[i] for i in range(len(vetor_indicial_basico))]\n",
    "print(indice_final)\n",
    "\n",
    "for i in range(len(indice_final)):\n",
    "        indice_final[i] = \"x\" + str(indice_final[i]) \n",
    "print(indice_final)\n",
    "\n"
   ]
  },
  {
   "cell_type": "code",
   "execution_count": 46,
   "metadata": {},
   "outputs": [],
   "source": [
    "def main():\n",
    "    \n",
    "    A, recursos, custos, linhas, colunas = entrada()\n",
    "    particao_basica, particao_nbasica, custos_basicos, custos_nbasicos, vetor_indicial = part(A,custos, linhas, colunas)\n",
    "    tamanho_basico = len(custos_basicos)\n",
    "    xb = solucao_basica(particao_basica, recursos)\n",
    "\n",
    "    custos_relativos = relativos(particao_basica, particao_nbasica, custos_basicos, custos_nbasicos, linhas, colunas)\n",
    "    while(otima(custos_relativos) != -1):\n",
    "        indice_entrada_base = otima(custos_relativos)\n",
    "        indice_saida_base = indice_saida(xb, particao_basica, particao_nbasica, indice_entrada_base) #direcao de passo\n",
    "        if indice_saida_base == (-1): #Se direcao é negativa ... O problema é ilimitado.\n",
    "            print(\"O problema não tem solução ótima finita.\")\n",
    "            quit(0)\n",
    "        else:\n",
    "            #Funcao que faz a troca (lembrar de informar quais variaveis estao em cada particao na iteracao atual).\n",
    "            particao_basica, particao_nbasica, custos_basicos, custos_nbasicos, vetor_indicial = troca_base(particao_basica,\n",
    "                                                                                                particao_nbasica,\n",
    "                                                                                                custos_basicos,\n",
    "                                                                                                custos_nbasicos,\n",
    "                                                                                                indice_entrada_base,\n",
    "                                                                                                indice_saida_base,\n",
    "                                                                                                vetor_indicial,\n",
    "                                                                                                linhas,\n",
    "                                                                                                colunas)\n",
    "            \n",
    "            \n",
    "\n",
    "            #refaz custo relativo\n",
    "            custos_relativos = relativos(particao_basica, particao_nbasica, custos_basicos, custos_nbasicos, linhas, colunas)\n",
    "            xb = solucao_basica(particao_basica, recursos)\n",
    "    if(otima(custos_relativos)):\n",
    "        indice_final = [vetor_indicial[i]+1 for i in range(len(custos)-tamanho_basico, len(custos))]\n",
    "        imprime_otima(xb, custos_basicos, indice_final)\n",
    "        exit(0)"
   ]
  },
  {
   "cell_type": "code",
   "execution_count": null,
   "metadata": {},
   "outputs": [],
   "source": [
    "main()"
   ]
  }
 ],
 "metadata": {
  "kernelspec": {
   "display_name": "Python 3",
   "language": "python",
   "name": "python3"
  },
  "language_info": {
   "codemirror_mode": {
    "name": "ipython",
    "version": 3
   },
   "file_extension": ".py",
   "mimetype": "text/x-python",
   "name": "python",
   "nbconvert_exporter": "python",
   "pygments_lexer": "ipython3",
   "version": "3.11.6"
  },
  "orig_nbformat": 4
 },
 "nbformat": 4,
 "nbformat_minor": 2
}
