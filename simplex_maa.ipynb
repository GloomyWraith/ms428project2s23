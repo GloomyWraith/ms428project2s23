{
 "cells": [
  {
   "cell_type": "code",
   "execution_count": 1,
   "metadata": {},
   "outputs": [],
   "source": [
    "#------------------------------HEADER------------------------------#\n",
    "#Projeto computacional em que implementamos o método simplex.\n",
    "'''AUTHORS:\n",
    "Daniel Reis, Matheus Alves, Mariane Santana.\n",
    "'''\n",
    "\n",
    "import numpy as np\n",
    "#------------------------------HEADER------------------------------#"
   ]
  },
  {
   "cell_type": "code",
   "execution_count": 218,
   "metadata": {},
   "outputs": [
    {
     "name": "stdout",
     "output_type": "stream",
     "text": [
      "[[2. 1. 1. 0. 0.]\n",
      " [2. 3. 0. 1. 0.]\n",
      " [3. 1. 0. 0. 1.]]\n"
     ]
    }
   ],
   "source": [
    "linhas = int(input(\"Informe o tamanho da matriz.\\nLinhas: \"))\n",
    "colunas = int(input(\"\\nColunas: \"))\n",
    "# print(\"i, j = ({:1f}, {:1f})\\n\".format(linhas, colunas))\n",
    "\n",
    "A = np.zeros(linhas*colunas, dtype=float).reshape(linhas, colunas)\n",
    "\n",
    "for i in range(linhas):\n",
    "    A[i] = input().split()\n",
    "\n",
    "print(A)"
   ]
  },
  {
   "cell_type": "code",
   "execution_count": 219,
   "metadata": {},
   "outputs": [
    {
     "name": "stdout",
     "output_type": "stream",
     "text": [
      "[-3.0, -2.0, 0.0, 0.0, 0.0]\n"
     ]
    }
   ],
   "source": [
    "# c = input(\"Informe o vetor dos custos (separados por um espaço): \").split(sep = \" \")\n",
    "custos = [float(c) for c in input(\"Informe o vetor dos custos (separados por um espaço): \").split(sep = \" \")]\n",
    "\n",
    "print(custos)"
   ]
  },
  {
   "cell_type": "code",
   "execution_count": 220,
   "metadata": {},
   "outputs": [
    {
     "name": "stdout",
     "output_type": "stream",
     "text": [
      "[18.0, 42.0, 24.0]\n"
     ]
    }
   ],
   "source": [
    "recursos = [float(b) for b in input(\"Informe o vetor dos recursos (separados por um espaço): \").split(sep = \" \")]\n",
    "\n",
    "print(recursos)"
   ]
  },
  {
   "cell_type": "code",
   "execution_count": 221,
   "metadata": {},
   "outputs": [
    {
     "name": "stdout",
     "output_type": "stream",
     "text": [
      "[[2. 1. 1. 0. 0.]\n",
      " [2. 3. 0. 1. 0.]\n",
      " [3. 1. 0. 0. 1.]]\n",
      "[-3.0, -2.0, 0.0, 0.0, 0.0]\n",
      "[18.0, 42.0, 24.0]\n"
     ]
    }
   ],
   "source": [
    "print(A)\n",
    "print(custos)\n",
    "print(recursos)"
   ]
  },
  {
   "cell_type": "code",
   "execution_count": 222,
   "metadata": {},
   "outputs": [],
   "source": [
    "# Define partições e os custos básicos e não-básicos\n",
    "particao_basica = A[:,:linhas]\n",
    "particao_nbasica = A[:,(linhas-colunas):]\n",
    "custos_basicos = custos[:linhas]\n",
    "custos_nbasicos = custos[(linhas-colunas):]"
   ]
  },
  {
   "cell_type": "code",
   "execution_count": 223,
   "metadata": {},
   "outputs": [
    {
     "name": "stdout",
     "output_type": "stream",
     "text": [
      "[ 4.28571429 11.14285714 -1.71428571]\n"
     ]
    }
   ],
   "source": [
    "# Calcula a solução básica factível Xb\n",
    "xb = np.linalg.solve(particao_basica, recursos)\n",
    "print(xb)"
   ]
  },
  {
   "cell_type": "code",
   "execution_count": 224,
   "metadata": {},
   "outputs": [
    {
     "name": "stdout",
     "output_type": "stream",
     "text": [
      "-35.14285714285714\n"
     ]
    }
   ],
   "source": [
    "valor_atual = np.dot(np.transpose(custos_basicos), xb)\n",
    "print(valor_atual)"
   ]
  },
  {
   "cell_type": "code",
   "execution_count": 227,
   "metadata": {},
   "outputs": [],
   "source": [
    "# Calcular os custos relativos\n",
    "lambda_simplex = np.linalg.solve(np.transpose(particao_basica), custos_basicos)\n",
    "custos_relativos = [(custos_nbasicos[j] - np.dot(np.transpose(lambda_simplex), particao_nbasica[:,j])) for j in range(colunas-linhas)]\n",
    "custo_relativo_min = min(custos_relativos)\n",
    "indice_entrada_base = custos_relativos.index(custo_relativo_min)"
   ]
  },
  {
   "cell_type": "code",
   "execution_count": 228,
   "metadata": {},
   "outputs": [
    {
     "name": "stdout",
     "output_type": "stream",
     "text": [
      "[ 0.         -0.42857143 -0.71428571]\n",
      "[0.4285714285714286, 0.7142857142857143]\n",
      "0.4285714285714286\n",
      "0\n"
     ]
    }
   ],
   "source": [
    "print(lambda_simplex)\n",
    "print(custos_relativos)\n",
    "print(custo_relativo_min)\n",
    "print(indice_entrada_base)"
   ]
  },
  {
   "cell_type": "code",
   "execution_count": 229,
   "metadata": {},
   "outputs": [
    {
     "name": "stdout",
     "output_type": "stream",
     "text": [
      "Solução atual é ótima.\n",
      "Valor ótimo da solução:  -35.14285714285714\n",
      "Variáveis ótimas:  [ 4.28571429 11.14285714 -1.71428571]\n"
     ]
    }
   ],
   "source": [
    "# Teste de otimalidade\n",
    "if (custo_relativo_min >= 0):\n",
    "    print(\"Solução atual é ótima.\")\n",
    "    print(\"Valor ótimo da solução: \", valor_atual)\n",
    "    print(\"Variáveis ótimas: \", xb)\n",
    "else:\n",
    "    print(\"Solução atual não é ótima.\")\n",
    "    print(\"Valor atual da solução: \", valor_atual)\n",
    "    print(\"Variáveis: \", xb)"
   ]
  },
  {
   "cell_type": "code",
   "execution_count": 132,
   "metadata": {},
   "outputs": [
    {
     "name": "stdout",
     "output_type": "stream",
     "text": [
      "Problema não tem solução ótima finita.\n"
     ]
    }
   ],
   "source": [
    "# Cálculo da Direção Simplex\n",
    "direcao_simplex = np.linalg.solve(particao_basica, particao_nbasica[:,[indice_entrada_base]])\n",
    "\n",
    "if True in (direcao_simplex <= 0):\n",
    "    print(\"Problema não tem solução ótima finita.\")\n",
    "# else:\n",
    "    # epsilon ="
   ]
  }
 ],
 "metadata": {
  "kernelspec": {
   "display_name": "Python 3",
   "language": "python",
   "name": "python3"
  },
  "language_info": {
   "codemirror_mode": {
    "name": "ipython",
    "version": 3
   },
   "file_extension": ".py",
   "mimetype": "text/x-python",
   "name": "python",
   "nbconvert_exporter": "python",
   "pygments_lexer": "ipython3",
   "version": "3.11.5"
  },
  "orig_nbformat": 4
 },
 "nbformat": 4,
 "nbformat_minor": 2
}
