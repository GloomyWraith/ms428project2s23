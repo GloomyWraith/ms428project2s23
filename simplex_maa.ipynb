{
 "cells": [
  {
   "cell_type": "code",
   "execution_count": 8,
   "metadata": {},
   "outputs": [],
   "source": [
    "#------------------------------HEADER------------------------------#\n",
    "#Projeto computacional em que implementamos o método simplex.\n",
    "'''AUTHORS:\n",
    "Daniel Reis, Matheus Alves, Mariane Santana.\n",
    "'''\n",
    "\n",
    "import numpy as np\n",
    "#------------------------------HEADER------------------------------#"
   ]
  },
  {
   "cell_type": "code",
   "execution_count": 16,
   "metadata": {},
   "outputs": [],
   "source": [
    "\n",
    "#Função que lê da entrada as informações relevantes para o PL.\n",
    "def entrada():\n",
    "    #Lê o tamanho da matriz de restrições\n",
    "    linhas = int(input(\"Informe o tamanho da matriz.\\nLinhas: \"))\n",
    "    colunas = int(input(\"\\nColunas: \"))\n",
    "    #Cria uma matriz (A)mxn de zeros\n",
    "    A = np.zeros(linhas*colunas, dtype=float).reshape(linhas, colunas)\n",
    "\n",
    "    #Atribui às entradas de A os valores do input do usuário.\n",
    "    for i in range(linhas):\n",
    "        A[i] = input().split()\n",
    "\n",
    "    #Atribui às entradas de b (vetor de recursos) os valores do input do usuário.\n",
    "    recursos = [float(b) for b in input(\"Informe o vetor dos recursos (\"+str(linhas)+\" entradas separadas por um espaço): \").split(sep = \" \")]\n",
    "\n",
    "    #Atribui às entradas de c (vetor de custos) os valores do input do usuário.\n",
    "    custos = [float(c) for c in input(\"Informe o vetor dos custos (\"+str(colunas)+\" entradas separadas por um espaço): \").split(sep = \" \")]\n",
    "\n",
    "    #Printa os valores lidos para confirmar se tudo correu bem.\n",
    "    print('A = {}\\n'.format(A))\n",
    "    print('b = {}\\n'.format(recursos))\n",
    "    print('c = {}\\n'.format(custos))\n",
    "    return A, recursos, custos, linhas, colunas\n"
   ]
  },
  {
   "cell_type": "code",
   "execution_count": 17,
   "metadata": {},
   "outputs": [
    {
     "name": "stdout",
     "output_type": "stream",
     "text": [
      "A = [[3. 4. 5.]]\n",
      "\n",
      "b = [4.0]\n",
      "\n",
      "c = [5.0, 5.0, 6.0]\n",
      "\n"
     ]
    }
   ],
   "source": [
    "A, recursos, custos, linhas, colunas = entrada()"
   ]
  },
  {
   "cell_type": "code",
   "execution_count": null,
   "metadata": {},
   "outputs": [],
   "source": [
    "\n",
    "#Função que particiona o PL.\n",
    "def part(A,custos, linhas, colunas):\n",
    "    # Define partições e os custos básicos e não-básicos\n",
    "    particao_basica = A[:,(linhas-colunas):].copy()\n",
    "    particao_nbasica = A[:,:linhas].copy()\n",
    "    custos_basicos = custos[(linhas-colunas):].copy()\n",
    "    custos_nbasicos = custos[:linhas].copy()\n",
    "    return particao_basica, particao_nbasica, custos_basicos, custos_nbasicos\n",
    "\n",
    "particao_basica, particao_nbasica, custos_basicos, custos_nbasicos = part(A,custos, linhas, colunas)"
   ]
  },
  {
   "cell_type": "markdown",
   "metadata": {},
   "source": [
    "Loop daqui pra baixo"
   ]
  },
  {
   "cell_type": "code",
   "execution_count": null,
   "metadata": {},
   "outputs": [
    {
     "name": "stdout",
     "output_type": "stream",
     "text": [
      "[10.  7. 60.]\n"
     ]
    }
   ],
   "source": [
    "# Procura uma solução básica factível, Xb.\n",
    "def solucao_basica(particao_basica, recursos):\n",
    "    xb = np.linalg.solve(particao_basica, recursos)\n",
    "    if(min(xb) < 0 or min(xb) == None):\n",
    "        print(\"Solucao basica nao encontrada.\")\n",
    "        return None\n",
    "    else:\n",
    "        return xb\n",
    "#A funcao acima (solucao_basica) deverá ser chamada em loop até testar todas as particoes possiveis ou encontrar uma solucao factivel?\n",
    "\n",
    "# def busca_sol_basica(A,recursos):\n",
    "#     # Define partições e os custos básicos e não-básicos\n",
    "#     particao_basica = A[:,(linhas-colunas):].copy()\n",
    "#     particao_nbasica = A[:,:linhas].copy()\n",
    "#     custos_basicos = custos[(linhas-colunas):].copy()\n",
    "#     custos_nbasicos = custos[:linhas].copy()\n",
    "#     #Iterar\n",
    "#     solucao_basica(particao_basica,recursos)\n",
    "\n",
    "xb = np.linalg.solve(particao_basica, recursos)\n",
    "print(xb)\n"
   ]
  },
  {
   "cell_type": "code",
   "execution_count": null,
   "metadata": {},
   "outputs": [
    {
     "name": "stdout",
     "output_type": "stream",
     "text": [
      "-120.0\n"
     ]
    }
   ],
   "source": [
    "#Função que calcula o valor da função objetivo considerando apenas a parte básica.\n",
    "def objetivo(custos_basicos, xb):\n",
    "    valor_atual = np.dot(np.transpose(custos_basicos), xb)\n",
    "    return valor_atual\n",
    "\n",
    "valor_atual = objetivo(custos_basicos, xb)"
   ]
  },
  {
   "cell_type": "code",
   "execution_count": null,
   "metadata": {},
   "outputs": [],
   "source": [
    "#Função que calcula os custos relativos (e retorna o quê exatamente? Só os custos?) Ver tbm se a entrada recebe os parametros certos\n",
    "def relativos(particao_nbasica, custos_nbasicos):\n",
    "    return 0\n",
    "\n",
    "# Calcular os custos relativos\n",
    "lambda_simplex = np.linalg.solve(np.transpose(particao_basica), custos_basicos)\n",
    "custos_relativos = [(custos_nbasicos[j] - np.dot(np.transpose(lambda_simplex), particao_nbasica[:,j])) for j in range(colunas-linhas)]\n",
    "custo_relativo_min = min(custos_relativos)\n",
    "indice_entrada_base = custos_relativos.index(custo_relativo_min)"
   ]
  },
  {
   "cell_type": "code",
   "execution_count": null,
   "metadata": {},
   "outputs": [
    {
     "name": "stdout",
     "output_type": "stream",
     "text": [
      "[-1.2  0.   0. ]\n",
      "[1.2, -0.6000000000000001, 0.19999999999999996]\n",
      "-0.6000000000000001\n",
      "1\n"
     ]
    }
   ],
   "source": [
    "print(lambda_simplex)\n",
    "print(custos_relativos)\n",
    "print(custo_relativo_min)\n",
    "print(indice_entrada_base)"
   ]
  },
  {
   "cell_type": "code",
   "execution_count": null,
   "metadata": {},
   "outputs": [
    {
     "name": "stdout",
     "output_type": "stream",
     "text": [
      "Solução atual não é ótima.\n",
      "Valor atual da solução:  -120.0\n",
      "Variáveis:  [10.  7. 60.]\n"
     ]
    }
   ],
   "source": [
    "#Funcao que performa o teste de otimalidade (Essa é tão simples que fico na duvida se cabe implementar direto no main()).\n",
    "def otima(custos_relativos):\n",
    "    custo_relativo_min = min(custos_relativos)\n",
    "    if(custo_relativo_min >= 0):\n",
    "        return True\n",
    "    else:\n",
    "        return False\n",
    "    \n",
    "\n",
    "\n",
    "# Teste de otimalidade\n",
    "if (custo_relativo_min >= 0):\n",
    "    print(\"Solução atual é ótima.\")\n",
    "    print(\"Valor ótimo da solução: \", valor_atual)\n",
    "    print(\"Variáveis ótimas: \", xb)\n",
    "else:\n",
    "    print(\"Solução atual não é ótima.\")\n",
    "    print(\"Valor atual da solução: \", valor_atual)\n",
    "    print(\"Variáveis: \", xb)"
   ]
  },
  {
   "cell_type": "code",
   "execution_count": null,
   "metadata": {},
   "outputs": [
    {
     "name": "stdout",
     "output_type": "stream",
     "text": [
      "[0.2 1.6 3.6]\n"
     ]
    }
   ],
   "source": [
    "# Cálculo da Direção Simplex\n",
    "direcao_simplex = np.linalg.solve(particao_basica, particao_nbasica[:,indice_entrada_base])\n",
    "print(direcao_simplex)"
   ]
  },
  {
   "cell_type": "code",
   "execution_count": null,
   "metadata": {},
   "outputs": [],
   "source": [
    "\n",
    "if True in (direcao_simplex <= 0):\n",
    "    print(\"Problema não tem solução ótima finita.\")\n",
    "else:\n",
    "    passo = xb/direcao_simplex\n",
    "    epsilon = min(passo)\n",
    "    indice_saida_base = np.where(passo == epsilon)[0][0]"
   ]
  },
  {
   "cell_type": "code",
   "execution_count": null,
   "metadata": {},
   "outputs": [
    {
     "name": "stdout",
     "output_type": "stream",
     "text": [
      "[50.          4.375      16.66666667]\n",
      "4.375\n",
      "1\n"
     ]
    }
   ],
   "source": [
    "print(passo)\n",
    "print(epsilon)\n",
    "print(indice_saida_base)"
   ]
  },
  {
   "cell_type": "code",
   "execution_count": null,
   "metadata": {},
   "outputs": [],
   "source": [
    "entrada_base = particao_nbasica[:,indice_entrada_base].copy()\n",
    "saida_base = particao_basica[:,indice_saida_base].copy()\n",
    "particao_basica[:,indice_saida_base] = entrada_base\n",
    "particao_nbasica[:,indice_entrada_base] = saida_base"
   ]
  },
  {
   "cell_type": "code",
   "execution_count": null,
   "metadata": {},
   "outputs": [],
   "source": [
    "entrada_custo = custos_nbasicos[indice_entrada_base]\n",
    "saida_custo = custos_basicos[indice_saida_base]\n",
    "custos_basicos[indice_saida_base] = entrada_custo\n",
    "custos_nbasicos[indice_entrada_base] = saida_custo"
   ]
  },
  {
   "cell_type": "code",
   "execution_count": null,
   "metadata": {},
   "outputs": [
    {
     "name": "stdout",
     "output_type": "stream",
     "text": [
      "[[10.  0.  0.]\n",
      " [ 7.  1.  0.]\n",
      " [ 2.  0.  1.]]\n",
      "[[1. 2. 1.]\n",
      " [0. 3. 2.]\n",
      " [0. 4. 1.]]\n"
     ]
    }
   ],
   "source": [
    "print(particao_basica)\n",
    "print(particao_nbasica)"
   ]
  },
  {
   "cell_type": "code",
   "execution_count": null,
   "metadata": {},
   "outputs": [
    {
     "name": "stdout",
     "output_type": "stream",
     "text": [
      "[-12.0, 0.0, 0.0]\n",
      "[0.0, -3.0, -1.0]\n"
     ]
    }
   ],
   "source": [
    "print(custos_basicos)\n",
    "print(custos_nbasicos)"
   ]
  },
  {
   "cell_type": "code",
   "execution_count": null,
   "metadata": {},
   "outputs": [],
   "source": [
    "def main():\n",
    "    \n",
    "    A, recursos, custos, linhas, colunas = entrada()\n",
    "    particao_basica, particao_nbasica, custos_basicos, custos_nbasicos = part(A,custos, linhas, colunas)\n",
    "    xb = solucao_basica(particao_basica, recursos) #Verificar se precisamos iterar sobre todas as possiveis formas de particionar.\n",
    "    if(xb == None):\n",
    "        exit(0) #Termina a execução do programa.\n",
    "\n",
    "    custos_relativos = relativos(particao_nbasica, custos_nbasicos)\n",
    "    while(otima(custos_relativos) != True):\n",
    "        custo_relativo_min = min(custos_relativos)\n",
    "        indice_entrada_base = custos_relativos.index(custo_relativo_min)\n",
    "        #direcao de passo\n",
    "            #Se direcao é negativa ... O problema é ilimitado.\n",
    "            #break;\n",
    "        #indice de saida da base\n",
    "\n",
    "        #Funcao que faz a troca (lembrar de informar quais variaveis estao em cada particao na iteracao atual).\n",
    "        #refaz custo relativo\n",
    "\n",
    "\n",
    "\n",
    "\n",
    "    if(otima(custos_relativos)):\n",
    "        valor_atual = objetivo(custos_basicos, xb)\n",
    "\n",
    "        print(\"Solução atual é ótima.\")\n",
    "        print(\"Valor ótimo da solução: \", valor_atual)\n",
    "        print(\"Variáveis ótimas: \", xb)\n",
    "        exit(0)\n",
    "\n",
    "\n",
    "    \n",
    "    "
   ]
  }
 ],
 "metadata": {
  "kernelspec": {
   "display_name": "Python 3",
   "language": "python",
   "name": "python3"
  },
  "language_info": {
   "codemirror_mode": {
    "name": "ipython",
    "version": 3
   },
   "file_extension": ".py",
   "mimetype": "text/x-python",
   "name": "python",
   "nbconvert_exporter": "python",
   "pygments_lexer": "ipython3",
   "version": "3.11.4"
  },
  "orig_nbformat": 4
 },
 "nbformat": 4,
 "nbformat_minor": 2
}
