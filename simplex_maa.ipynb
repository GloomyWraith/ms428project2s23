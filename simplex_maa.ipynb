{
 "cells": [
  {
   "cell_type": "code",
   "execution_count": 1,
   "metadata": {},
   "outputs": [],
   "source": [
    "#------------------------------HEADER------------------------------#\n",
    "#Projeto computacional em que implementamos o método simplex.\n",
    "'''AUTHORS:\n",
    "Daniel Reis, Matheus Alves, Mariane Santana.\n",
    "'''\n",
    "\n",
    "import numpy as np\n",
    "#------------------------------HEADER------------------------------#"
   ]
  },
  {
   "cell_type": "code",
   "execution_count": 2,
   "metadata": {},
   "outputs": [
    {
     "name": "stdout",
     "output_type": "stream",
     "text": [
      "[[10.  2.  1.  1.  0.  0.]\n",
      " [ 7.  3.  2.  0.  1.  0.]\n",
      " [ 2.  4.  1.  0.  0.  1.]]\n"
     ]
    }
   ],
   "source": [
    "linhas = int(input(\"Informe o tamanho da matriz.\\nLinhas: \"))\n",
    "colunas = int(input(\"\\nColunas: \"))\n",
    "# print(\"i, j = ({:1f}, {:1f})\\n\".format(linhas, colunas))\n",
    "\n",
    "A = np.zeros(linhas*colunas, dtype=float).reshape(linhas, colunas)\n",
    "\n",
    "for i in range(linhas):\n",
    "    A[i] = input().split()\n",
    "\n",
    "print(A)"
   ]
  },
  {
   "cell_type": "code",
   "execution_count": 3,
   "metadata": {},
   "outputs": [
    {
     "name": "stdout",
     "output_type": "stream",
     "text": [
      "[-12.0, -3.0, -1.0, 0.0, 0.0, 0.0]\n"
     ]
    }
   ],
   "source": [
    "# c = input(\"Informe o vetor dos custos (separados por um espaço): \").split(sep = \" \")\n",
    "custos = [float(c) for c in input(\"Informe o vetor dos custos (separados por um espaço): \").split(sep = \" \")]\n",
    "\n",
    "print(custos)"
   ]
  },
  {
   "cell_type": "code",
   "execution_count": 4,
   "metadata": {},
   "outputs": [
    {
     "name": "stdout",
     "output_type": "stream",
     "text": [
      "[100.0, 77.0, 80.0]\n"
     ]
    }
   ],
   "source": [
    "recursos = [float(b) for b in input(\"Informe o vetor dos recursos (separados por um espaço): \").split(sep = \" \")]\n",
    "\n",
    "print(recursos)"
   ]
  },
  {
   "cell_type": "code",
   "execution_count": 33,
   "metadata": {},
   "outputs": [],
   "source": [
    "# Define partições e os custos básicos e não-básicos\n",
    "particao_basica = A[:,(linhas-colunas):].copy()\n",
    "particao_nbasica = A[:,:linhas].copy()\n",
    "custos_basicos = custos[(linhas-colunas):].copy()\n",
    "custos_nbasicos = custos[:linhas].copy()"
   ]
  },
  {
   "cell_type": "markdown",
   "metadata": {},
   "source": [
    "Loop daqui pra baixo"
   ]
  },
  {
   "cell_type": "code",
   "execution_count": 46,
   "metadata": {},
   "outputs": [
    {
     "name": "stdout",
     "output_type": "stream",
     "text": [
      "[10.  7. 60.]\n"
     ]
    }
   ],
   "source": [
    "# Calcula a solução básica factível Xb\n",
    "xb = np.linalg.solve(particao_basica, recursos)\n",
    "print(xb)"
   ]
  },
  {
   "cell_type": "code",
   "execution_count": 47,
   "metadata": {},
   "outputs": [
    {
     "name": "stdout",
     "output_type": "stream",
     "text": [
      "-120.0\n"
     ]
    }
   ],
   "source": [
    "valor_atual = np.dot(np.transpose(custos_basicos), xb)\n",
    "print(valor_atual)"
   ]
  },
  {
   "cell_type": "code",
   "execution_count": 48,
   "metadata": {},
   "outputs": [],
   "source": [
    "# Calcular os custos relativos\n",
    "lambda_simplex = np.linalg.solve(np.transpose(particao_basica), custos_basicos)\n",
    "custos_relativos = [(custos_nbasicos[j] - np.dot(np.transpose(lambda_simplex), particao_nbasica[:,j])) for j in range(colunas-linhas)]\n",
    "custo_relativo_min = min(custos_relativos)\n",
    "indice_entrada_base = custos_relativos.index(custo_relativo_min)"
   ]
  },
  {
   "cell_type": "code",
   "execution_count": 49,
   "metadata": {},
   "outputs": [
    {
     "name": "stdout",
     "output_type": "stream",
     "text": [
      "[-1.2  0.   0. ]\n",
      "[1.2, -0.6000000000000001, 0.19999999999999996]\n",
      "-0.6000000000000001\n",
      "1\n"
     ]
    }
   ],
   "source": [
    "print(lambda_simplex)\n",
    "print(custos_relativos)\n",
    "print(custo_relativo_min)\n",
    "print(indice_entrada_base)"
   ]
  },
  {
   "cell_type": "code",
   "execution_count": 50,
   "metadata": {},
   "outputs": [
    {
     "name": "stdout",
     "output_type": "stream",
     "text": [
      "Solução atual não é ótima.\n",
      "Valor atual da solução:  -120.0\n",
      "Variáveis:  [10.  7. 60.]\n"
     ]
    }
   ],
   "source": [
    "# Teste de otimalidade\n",
    "if (custo_relativo_min >= 0):\n",
    "    print(\"Solução atual é ótima.\")\n",
    "    print(\"Valor ótimo da solução: \", valor_atual)\n",
    "    print(\"Variáveis ótimas: \", xb)\n",
    "else:\n",
    "    print(\"Solução atual não é ótima.\")\n",
    "    print(\"Valor atual da solução: \", valor_atual)\n",
    "    print(\"Variáveis: \", xb)"
   ]
  },
  {
   "cell_type": "code",
   "execution_count": 51,
   "metadata": {},
   "outputs": [
    {
     "name": "stdout",
     "output_type": "stream",
     "text": [
      "[0.2 1.6 3.6]\n"
     ]
    }
   ],
   "source": [
    "# Cálculo da Direção Simplex\n",
    "direcao_simplex = np.linalg.solve(particao_basica, particao_nbasica[:,indice_entrada_base])\n",
    "print(direcao_simplex)"
   ]
  },
  {
   "cell_type": "code",
   "execution_count": 52,
   "metadata": {},
   "outputs": [],
   "source": [
    "\n",
    "if True in (direcao_simplex <= 0):\n",
    "    print(\"Problema não tem solução ótima finita.\")\n",
    "else:\n",
    "    passo = xb/direcao_simplex\n",
    "    epsilon = min(passo)\n",
    "    indice_saida_base = np.where(passo == epsilon)[0][0]"
   ]
  },
  {
   "cell_type": "code",
   "execution_count": 53,
   "metadata": {},
   "outputs": [
    {
     "name": "stdout",
     "output_type": "stream",
     "text": [
      "[50.          4.375      16.66666667]\n",
      "4.375\n",
      "1\n"
     ]
    }
   ],
   "source": [
    "print(passo)\n",
    "print(epsilon)\n",
    "print(indice_saida_base)"
   ]
  },
  {
   "cell_type": "code",
   "execution_count": 42,
   "metadata": {},
   "outputs": [],
   "source": [
    "entrada_base = particao_nbasica[:,indice_entrada_base].copy()\n",
    "saida_base = particao_basica[:,indice_saida_base].copy()\n",
    "particao_basica[:,indice_saida_base] = entrada_base\n",
    "particao_nbasica[:,indice_entrada_base] = saida_base"
   ]
  },
  {
   "cell_type": "code",
   "execution_count": 43,
   "metadata": {},
   "outputs": [],
   "source": [
    "entrada_custo = custos_nbasicos[indice_entrada_base]\n",
    "saida_custo = custos_basicos[indice_saida_base]\n",
    "custos_basicos[indice_saida_base] = entrada_custo\n",
    "custos_nbasicos[indice_entrada_base] = saida_custo"
   ]
  },
  {
   "cell_type": "code",
   "execution_count": 44,
   "metadata": {},
   "outputs": [
    {
     "name": "stdout",
     "output_type": "stream",
     "text": [
      "[[10.  0.  0.]\n",
      " [ 7.  1.  0.]\n",
      " [ 2.  0.  1.]]\n",
      "[[1. 2. 1.]\n",
      " [0. 3. 2.]\n",
      " [0. 4. 1.]]\n"
     ]
    }
   ],
   "source": [
    "print(particao_basica)\n",
    "print(particao_nbasica)"
   ]
  },
  {
   "cell_type": "code",
   "execution_count": 45,
   "metadata": {},
   "outputs": [
    {
     "name": "stdout",
     "output_type": "stream",
     "text": [
      "[-12.0, 0.0, 0.0]\n",
      "[0.0, -3.0, -1.0]\n"
     ]
    }
   ],
   "source": [
    "print(custos_basicos)\n",
    "print(custos_nbasicos)"
   ]
  }
 ],
 "metadata": {
  "kernelspec": {
   "display_name": "Python 3",
   "language": "python",
   "name": "python3"
  },
  "language_info": {
   "codemirror_mode": {
    "name": "ipython",
    "version": 3
   },
   "file_extension": ".py",
   "mimetype": "text/x-python",
   "name": "python",
   "nbconvert_exporter": "python",
   "pygments_lexer": "ipython3",
   "version": "3.11.5"
  },
  "orig_nbformat": 4
 },
 "nbformat": 4,
 "nbformat_minor": 2
}
